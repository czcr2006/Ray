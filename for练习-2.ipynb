{
 "cells": [
  {
   "cell_type": "code",
   "execution_count": 4,
   "metadata": {},
   "outputs": [
    {
     "name": "stdout",
     "output_type": "stream",
     "text": [
      "*\n",
      "* *\n",
      "* * *\n",
      "* * * *\n",
      "* * * * *\n"
     ]
    }
   ],
   "source": [
    "# 打印三角形\n",
    "'''\n",
    "\n",
    "*\n",
    "* *\n",
    "* * *\n",
    "* * * *\n",
    "* * * * *\n",
    "\n",
    "'''\n",
    "# 直接打印\n",
    "print(\"*\")\n",
    "print(\"* *\")\n",
    "print(\"* * *\")\n",
    "print(\"* * * *\")\n",
    "print(\"* * * * *\")"
   ]
  },
  {
   "cell_type": "code",
   "execution_count": 11,
   "metadata": {},
   "outputs": [
    {
     "name": "stdout",
     "output_type": "stream",
     "text": [
      "* \n",
      "* * \n",
      "* * * \n",
      "* * * * \n",
      "* * * * * \n"
     ]
    }
   ],
   "source": [
    "# 2.\n",
    "for i in range(5):\n",
    "    # 打印一行\n",
    "    # 每一行打印几个星号和行号相关\n",
    "    # 一行内打印不需要换行，一行打印完换行\n",
    "    for j in range(i+1):\n",
    "        print(\"*\", end=\" \")\n",
    "    print()"
   ]
  },
  {
   "cell_type": "code",
   "execution_count": 12,
   "metadata": {},
   "outputs": [
    {
     "name": "stdout",
     "output_type": "stream",
     "text": [
      "*\n",
      "* *\n",
      "*   *\n",
      "*     *\n",
      "* * * * *\n"
     ]
    }
   ],
   "source": [
    "# 打印空心三角形\n",
    "'''\n",
    "\n",
    "*\n",
    "* *\n",
    "*   *\n",
    "*     *\n",
    "* * * * *\n",
    "\n",
    "'''\n",
    "# 第一个方法， 直接使用print\n",
    "print(\"*\")\n",
    "print(\"* *\")\n",
    "print(\"*   *\")\n",
    "print(\"*     *\")\n",
    "print(\"* * * * *\")"
   ]
  },
  {
   "cell_type": "code",
   "execution_count": 18,
   "metadata": {},
   "outputs": [
    {
     "name": "stdout",
     "output_type": "stream",
     "text": [
      "* \n",
      "* * \n",
      "*   * \n",
      "*     * \n",
      "* * * * * \n"
     ]
    }
   ],
   "source": [
    "# 2.\n",
    "for i in range(5):\n",
    "    # 打印一行\n",
    "    # 每一行打印几个星号和行号相关\n",
    "    # 一行内打印不需要换行，一行打印完换行\n",
    "    # 需要判断打印的是否是最后一行， 如果是，则打印全部型号\n",
    "    # 否则，需要判断是第一和最后一个位置，如果是打印星号，否则空格\n",
    "    for j in range(i+1):\n",
    "        if j == 0 or i == 4:\n",
    "            print(\"*\", end=\" \")\n",
    "        # 如果不是最后一行\n",
    "        # j控制的是列数字\n",
    "        elif j == i:\n",
    "            print(\"*\", end=\" \")\n",
    "        else:\n",
    "            print(\" \", end=\" \")\n",
    "            \n",
    "    print()"
   ]
  },
  {
   "cell_type": "code",
   "execution_count": 19,
   "metadata": {},
   "outputs": [
    {
     "name": "stdout",
     "output_type": "stream",
     "text": [
      "* \n",
      "* * \n",
      "*   * \n",
      "*     * \n",
      "* * * * * \n"
     ]
    }
   ],
   "source": [
    "# 2.\n",
    "for i in range(5):\n",
    "    # 打印一行\n",
    "    # 每一行打印几个星号和行号相关\n",
    "    # 一行内打印不需要换行，一行打印完换行\n",
    "    # 需要判断打印的是否是最后一行， 如果是，则打印全部型号\n",
    "    # 否则，需要判断是第一和最后一个位置，如果是打印星号，否则空格\n",
    "    for j in range(i+1):\n",
    "        if i == 4:\n",
    "            print(\"*\", end=\" \")\n",
    "            continue\n",
    "        # 如果不是最后一行\n",
    "        # j控制的是列数字\n",
    "        elif j == 0 or j == i:\n",
    "            print(\"*\", end=\" \")\n",
    "        else:\n",
    "            print(\" \", end=\" \")\n",
    "            \n",
    "    print()"
   ]
  },
  {
   "cell_type": "code",
   "execution_count": 20,
   "metadata": {},
   "outputs": [
    {
     "data": {
      "text/plain": [
       "'\\n* * * * *\\n* * * *\\n* * *\\n* * \\n*\\n'"
      ]
     },
     "execution_count": 20,
     "metadata": {},
     "output_type": "execute_result"
    }
   ],
   "source": [
    "# 打印倒立三角\n",
    "'''\n",
    "* * * * *\n",
    "* * * *\n",
    "* * *\n",
    "* * \n",
    "*\n",
    "'''"
   ]
  },
  {
   "cell_type": "code",
   "execution_count": 21,
   "metadata": {},
   "outputs": [
    {
     "name": "stdout",
     "output_type": "stream",
     "text": [
      "* * * * * \n",
      "* * * * \n",
      "* * * \n",
      "* * \n",
      "* \n"
     ]
    }
   ],
   "source": [
    "# i-for控制行号\n",
    "# j-for控制列号\n",
    "\n",
    "for i in range(5):\n",
    "    for j in range(5-i):\n",
    "        print(\"*\", end=\" \")\n",
    "    print()"
   ]
  },
  {
   "cell_type": "code",
   "execution_count": 26,
   "metadata": {},
   "outputs": [
    {
     "name": "stdout",
     "output_type": "stream",
     "text": [
      "* * * * * \n",
      "* * * * \n",
      "* * * \n",
      "* * \n",
      "* \n"
     ]
    }
   ],
   "source": [
    "# i-for控制行号\n",
    "# j-for控制列号\n",
    "# 使用参数控制range结果\n",
    "for i in range(5,0,-1):\n",
    "    for j in range(i,0,-1):\n",
    "        print(\"*\", end=\" \")\n",
    "    print()"
   ]
  },
  {
   "cell_type": "code",
   "execution_count": 30,
   "metadata": {},
   "outputs": [
    {
     "name": "stdout",
     "output_type": "stream",
     "text": [
      "* * * * * \n",
      "*     * \n",
      "*   * \n",
      "* * \n",
      "* \n"
     ]
    }
   ],
   "source": [
    "# 打印倒立空三角\n",
    "'''\n",
    "* * * * *\n",
    "*     *\n",
    "*   *\n",
    "* * \n",
    "*\n",
    "'''\n",
    "\n",
    "# i-for控制行号\n",
    "# j-for控制列号\n",
    "\n",
    "for i in range(5):\n",
    "    for j in range(5-i):\n",
    "        if i == 0:\n",
    "            print(\"*\", end=\" \")\n",
    "            continue\n",
    "            \n",
    "        if j == 0 or j == 4 - i:\n",
    "            print(\"*\", end=\" \")\n",
    "        else: \n",
    "            print(\" \", end=\" \")\n",
    "    print()"
   ]
  },
  {
   "cell_type": "code",
   "execution_count": 38,
   "metadata": {},
   "outputs": [
    {
     "name": "stdout",
     "output_type": "stream",
     "text": [
      "    * \n",
      "   * * \n",
      "  * * * \n",
      " * * * * \n",
      "* * * * * \n"
     ]
    }
   ],
   "source": [
    "# 打印三角形，正三角形\n",
    "'''\n",
    "    *\n",
    "   * *\n",
    "  * * *\n",
    " * * * *\n",
    "* * * * *\n",
    "'''\n",
    "\n",
    "# i-for控制行号\n",
    "# j-for控制列号\n",
    "\n",
    "for i in range(5):\n",
    "    # 总体思路是，先打印一行空格，代表每一行星星前的空格\n",
    "    # 再不换行，打印星号，最后换行\n",
    "    for j in range(4-i):\n",
    "        print(\" \", end=\"\")\n",
    "        \n",
    "    for m in range(i+1):\n",
    "        print(\"* \", end=\"\")\n",
    "        \n",
    "    print()\n",
    "    "
   ]
  },
  {
   "cell_type": "code",
   "execution_count": 50,
   "metadata": {},
   "outputs": [
    {
     "name": "stdout",
     "output_type": "stream",
     "text": [
      "    * \n",
      "   * * \n",
      "  *   * \n",
      " *     * \n",
      "* * * * * \n"
     ]
    }
   ],
   "source": [
    "# 打印空三角\n",
    "'''\n",
    "    *\n",
    "   * *\n",
    "  *   *\n",
    " *     *\n",
    "* * * * *\n",
    "'''\n",
    "\n",
    "for i in range(5):\n",
    "    # 更改打印起始位置\n",
    "    for j in range(4-i):\n",
    "        print(end=\" \")\n",
    "        continue\n",
    "    for m in range(4-i,5):\n",
    "        if m==4-i or m==4 or i==4:\n",
    "            print(\"* \", end=\"\")\n",
    "        else:\n",
    "            print(\"  \", end=\"\")\n",
    "        \n",
    "        \n",
    "    print()"
   ]
  },
  {
   "cell_type": "code",
   "execution_count": null,
   "metadata": {},
   "outputs": [],
   "source": []
  }
 ],
 "metadata": {
  "kernelspec": {
   "display_name": "Python 3",
   "language": "python",
   "name": "python3"
  },
  "language_info": {
   "codemirror_mode": {
    "name": "ipython",
    "version": 3
   },
   "file_extension": ".py",
   "mimetype": "text/x-python",
   "name": "python",
   "nbconvert_exporter": "python",
   "pygments_lexer": "ipython3",
   "version": "3.7.0"
  }
 },
 "nbformat": 4,
 "nbformat_minor": 2
}
