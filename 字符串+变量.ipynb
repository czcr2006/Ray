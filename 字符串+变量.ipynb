{
 "cells": [
  {
   "cell_type": "markdown",
   "metadata": {},
   "source": [
    "# 字符串\n",
    "- 转义字符\n",
    "- 格式化\n",
    "- 内建函数（后延）\n",
    "\n",
    "## 转义字符\n",
    "- 用一个特殊的方法表示出一系列不方便写出的内容，比如回车键，换行键，退格键\n",
    "- 借助反斜杆字符，一旦字符串中出现反斜杆，则反斜杆后面一个或几个字符表示已经不是原来的意思，进行了转义\n",
    "- 在字符串中，一旦出现反斜杆就要加倍小心，可能有转义字符出现\n",
    "- 不同了系统队换行有不同的表示\n",
    "    - windows: \\n\n",
    "    - Linux: \\r\\n"
   ]
  },
  {
   "cell_type": "code",
   "execution_count": 2,
   "metadata": {},
   "outputs": [
    {
     "name": "stdout",
     "output_type": "stream",
     "text": [
      "I love Wu Mengyao\n"
     ]
    }
   ],
   "source": [
    "s = 'I love Wu Mengyao'\n",
    "print(s)"
   ]
  },
  {
   "cell_type": "code",
   "execution_count": 13,
   "metadata": {},
   "outputs": [
    {
     "name": "stdout",
     "output_type": "stream",
     "text": [
      "Let's go\n",
      "Let's go\n",
      "C:\\user\n",
      "I love \r\n",
      " Wumengyao\n"
     ]
    }
   ],
   "source": [
    "# 如果像表示出Let's go来\n",
    "#1. 可以使用嵌套引号，即外层使用双引号\n",
    "#2. 转义字符\n",
    "s = \"Let's go\"\n",
    "print(s)\n",
    "\n",
    "ss = 'Let\\'s go'\n",
    "print(ss)\n",
    "\n",
    "sss = \"C:\\\\user\"\n",
    "print(sss)\n",
    "\n",
    "# 回车换行符\n",
    "s1 = \"I love \\r\\n Wumengyao\"\n",
    "print(s1)"
   ]
  },
  {
   "cell_type": "markdown",
   "metadata": {},
   "source": [
    "## 字符串的格式化\n",
    "- 吧字符串按照一定格式打印或者填充\n",
    "- 格式化有两种方法\n",
    "    - 利用百分号（%）\n",
    "    - 利用format函数"
   ]
  },
  {
   "cell_type": "code",
   "execution_count": 14,
   "metadata": {},
   "outputs": [],
   "source": [
    "s = \"xxx 您好，我们图灵学院开课了，免费的python啊， 不学白不学，学了也白学\""
   ]
  },
  {
   "cell_type": "markdown",
   "metadata": {},
   "source": [
    "### 利用百分号格式化\n",
    "- 在字符串中，利用#表示一个特殊的含义，表示队字符进行格式化\n",
    "- %d:此处应该放入一个整数\n",
    "- %s:表示此处应该放入一个字符串"
   ]
  },
  {
   "cell_type": "code",
   "execution_count": 16,
   "metadata": {},
   "outputs": [
    {
     "name": "stdout",
     "output_type": "stream",
     "text": [
      "I love %s\n"
     ]
    }
   ],
   "source": [
    "s = \"I love %s\"\n",
    "# 下面打印， 直接吧%s作为字符串的一个内容打印出来了\n",
    "print(s)"
   ]
  },
  {
   "cell_type": "code",
   "execution_count": 18,
   "metadata": {},
   "outputs": [
    {
     "name": "stdout",
     "output_type": "stream",
     "text": [
      "I love wangxiaojing\n"
     ]
    }
   ],
   "source": [
    "print(\"I love %s\" %\"wangxiaojing\")"
   ]
  },
  {
   "cell_type": "code",
   "execution_count": 19,
   "metadata": {},
   "outputs": [
    {
     "name": "stdout",
     "output_type": "stream",
     "text": [
      "I love Wumengyao\n"
     ]
    }
   ],
   "source": [
    "print(s%\"Wumengyao\")"
   ]
  },
  {
   "cell_type": "code",
   "execution_count": 21,
   "metadata": {},
   "outputs": [
    {
     "name": "stdout",
     "output_type": "stream",
     "text": [
      "I am %d years old\n",
      "I am 18 years old\n"
     ]
    }
   ],
   "source": [
    "s = \"I am %d years old\"\n",
    "# 留意下面两句话的区别和结果\n",
    "print(s)\n",
    "print(s%18)"
   ]
  },
  {
   "cell_type": "code",
   "execution_count": 27,
   "metadata": {},
   "outputs": [
    {
     "name": "stdout",
     "output_type": "stream",
     "text": [
      "I am %s, I am %d years old.\n",
      "I am RuiChen, I am 28 years old.\n"
     ]
    }
   ],
   "source": [
    "s = \"I am %s, I am %d years old.\"\n",
    "print(s)\n",
    "# 如果字符串中有占位符，则有几个占位符必须用几个实际内容代替，或者一个也不要\n",
    "# 如果出现多个占位符， 则相应内容需要用括号括起来\n",
    "print(s%(\"RuiChen\",28))"
   ]
  },
  {
   "cell_type": "markdown",
   "metadata": {},
   "source": [
    "### format函数格式化字符串\n",
    "- 直接用format函数进行格式化\n",
    "- 推荐使用\n",
    "- 在使用上，以｛｝和：代替%， 后面用format带参数完成"
   ]
  },
  {
   "cell_type": "code",
   "execution_count": 30,
   "metadata": {},
   "outputs": [
    {
     "name": "stdout",
     "output_type": "stream",
     "text": [
      "I love liuxiaojing\n",
      "Yes, I am 28 years old, I love Wumengyao and I am 28 years old\n"
     ]
    }
   ],
   "source": [
    "s = \"I love {}\".format(\"liuxiaojing\")\n",
    "print(s)\n",
    "\n",
    "s = \"Yes, I am {1} years old, I love {0} and I am {1} years old\".format(\"Wumengyao\", 28)\n",
    "print(s)"
   ]
  },
  {
   "cell_type": "markdown",
   "metadata": {},
   "source": [
    "## None\n",
    "- 表示什么都没有\n",
    "- 如果函数没有返回值，可以返回None\n",
    "- 用来占位置\n",
    "- 用来解除变量绑定\n"
   ]
  },
  {
   "cell_type": "markdown",
   "metadata": {},
   "source": [
    "# 表达式\n",
    "-  由一个或者几个数字或者变量和运算符组合成的一行代码\n",
    "- 通常会返回一个结果\n",
    "\n",
    "# 运算符\n",
    "- 有一个易伤的值经过变化得到新值的过程\n",
    "- 用于运算的符号\n",
    "- 运算符分类\n",
    "    - 算数运算符\n",
    "    - 比较或者关系运算符\n",
    "    - 赋值运算符\n",
    "    - 逻辑运算符\n",
    "    - 位运算\n",
    "    - 成员运算\n",
    "    - 身份运算符"
   ]
  },
  {
   "cell_type": "markdown",
   "metadata": {},
   "source": [
    "略略略\n",
    "+-*/\n"
   ]
  },
  {
   "cell_type": "code",
   "execution_count": 35,
   "metadata": {},
   "outputs": [
    {
     "name": "stdout",
     "output_type": "stream",
     "text": [
      "7\n"
     ]
    }
   ],
   "source": [
    "# 在python2和python3里，出号（、）结果可能不一致，以3为主\n",
    "# % 取余运算\n",
    "# // 表示取商运算\n",
    "# ** 取幂运算\n",
    "# python没有自增自减运算符\n",
    "\n",
    "# +=， 是缩写\n",
    "a = 0\n",
    "a += 7 # a = a + 7 的缩写\n",
    "print(a)\n",
    "# -=, *=, /=, //=, %=, **= 等都是缩写形式"
   ]
  },
  {
   "cell_type": "markdown",
   "metadata": {},
   "source": [
    "# 逻辑运算符\n",
    "- 对布尔值进行计算的符号\n",
    "- and逻辑与\n",
    "- or逻辑或\n",
    "- not逻辑非\n",
    "- python中逻辑运算没有异或运算\n",
    "    - and看作乘法，or看作加法\n",
    "    - True看作1，False看作0\n",
    "    - 运算后0为False, 1为True"
   ]
  },
  {
   "cell_type": "code",
   "execution_count": 40,
   "metadata": {},
   "outputs": [
    {
     "name": "stdout",
     "output_type": "stream",
     "text": [
      "True\n",
      "True\n"
     ]
    }
   ],
   "source": [
    "# 运算实例\n",
    "a = True\n",
    "b = False\n",
    "c = True\n",
    "\n",
    "d = a and b or c\n",
    "print(d)\n",
    "\n",
    "d = a or b and a\n",
    "print(d)"
   ]
  },
  {
   "cell_type": "code",
   "execution_count": 44,
   "metadata": {},
   "outputs": [
    {
     "ename": "SyntaxError",
     "evalue": "invalid syntax (<ipython-input-44-14df61267757>, line 8)",
     "output_type": "error",
     "traceback": [
      "\u001b[1;36m  File \u001b[1;32m\"<ipython-input-44-14df61267757>\"\u001b[1;36m, line \u001b[1;32m8\u001b[0m\n\u001b[1;33m    a = a or (b =  False)\u001b[0m\n\u001b[1;37m                ^\u001b[0m\n\u001b[1;31mSyntaxError\u001b[0m\u001b[1;31m:\u001b[0m invalid syntax\n"
     ]
    }
   ],
   "source": [
    "# 逻辑与暗算的短路案例\n",
    "\n",
    "# 下面的逻辑表达式，a的值一定是True，则运算道or的时候，整个表达式不再向下计算\n",
    "a = True or xxxxxxxxxxxxxxxxx\n",
    "\n",
    "# 下面表达式如果xxx中包含赋值表达式， 则结果很难预测\n",
    "b = 9\n",
    "a = a or (b =  False)\n",
    "print(a)\n",
    "print(b)"
   ]
  },
  {
   "cell_type": "markdown",
   "metadata": {},
   "source": [
    "# 成员运算符号\n",
    "- 用来检测某一个变量是否是另一个变量的成员\n",
    "- in\n",
    "- not in"
   ]
  },
  {
   "cell_type": "code",
   "execution_count": 45,
   "metadata": {},
   "outputs": [
    {
     "name": "stdout",
     "output_type": "stream",
     "text": [
      "False\n",
      "True\n",
      "False\n"
     ]
    }
   ],
   "source": [
    "# 案例\n",
    "l = [1,2,3,4,5]\n",
    "a = 7\n",
    "\n",
    "b = a in l\n",
    "print(b)\n",
    "\n",
    "a = 4 \n",
    "print(a in l)\n",
    "\n",
    "print (a not in l)"
   ]
  },
  {
   "cell_type": "markdown",
   "metadata": {},
   "source": [
    "## 身份运算\n",
    "- 用来检测两个变量是否是同一个变量\n",
    "    - 语法就是 var1 is var2\n",
    "- is not: 两个变量不是同一个变量"
   ]
  },
  {
   "cell_type": "code",
   "execution_count": 46,
   "metadata": {},
   "outputs": [
    {
     "name": "stdout",
     "output_type": "stream",
     "text": [
      "True\n",
      "False\n"
     ]
    }
   ],
   "source": [
    "a = 9\n",
    "b = 9\n",
    "print(a is b)\n",
    "\n",
    "a = \"I love Wumengyao\"\n",
    "b = \"I love Wumengyao\"\n",
    "print(a is b)\n"
   ]
  },
  {
   "cell_type": "markdown",
   "metadata": {},
   "source": [
    "## 运算符的优先级问题\n",
    "- 永远记住， 括号具有最高优先级"
   ]
  },
  {
   "cell_type": "markdown",
   "metadata": {},
   "source": [
    "# 程序结构\n",
    "- 顺序\n",
    "- 分支\n",
    "- 循环"
   ]
  }
 ],
 "metadata": {
  "kernelspec": {
   "display_name": "Python 3",
   "language": "python",
   "name": "python3"
  },
  "language_info": {
   "codemirror_mode": {
    "name": "ipython",
    "version": 3
   },
   "file_extension": ".py",
   "mimetype": "text/x-python",
   "name": "python",
   "nbconvert_exporter": "python",
   "pygments_lexer": "ipython3",
   "version": "3.7.0"
  }
 },
 "nbformat": 4,
 "nbformat_minor": 2
}
